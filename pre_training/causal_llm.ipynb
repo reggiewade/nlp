{
 "cells": [
  {
   "cell_type": "code",
   "execution_count": 1,
   "id": "212106d9-7882-4867-b3a4-7787206e9471",
   "metadata": {},
   "outputs": [],
   "source": [
    "# https://www.youtube.com/watch?v=s3OUzmUDdg8"
   ]
  },
  {
   "cell_type": "code",
   "execution_count": 2,
   "id": "7743fa17-d06a-4352-8653-99e23c01df8f",
   "metadata": {},
   "outputs": [],
   "source": [
    "import numpy as np\n",
    "import matplotlib.pyplot as plt"
   ]
  },
  {
   "cell_type": "code",
   "execution_count": 3,
   "id": "90a80c91-8937-433c-b2ca-0aefeb6ae088",
   "metadata": {},
   "outputs": [],
   "source": [
    "item1_embedding = np.array([1, 2, -3, 3])\n",
    "item2_embedding = np.array([2, -3, -2, 4])"
   ]
  },
  {
   "cell_type": "code",
   "execution_count": 4,
   "id": "3ce83f70-744a-40d6-ac65-8a8bd6e4fa04",
   "metadata": {},
   "outputs": [
    {
     "data": {
      "image/png": "[encoded data removed]",
      "text/plain": [
       "<Figure size 500x500 with 1 Axes>"
      ]
     },
     "metadata": {},
     "output_type": "display_data"
    }
   ],
   "source": [
    "def plot_embeddings(emb1, emb2):\n",
    "    plt.figure(figsize=(5, 5))\n",
    "    plt.bar(np.arange(len(emb1)), emb1, width=0.25, alpha=0.8, label='item 1')\n",
    "    plt.bar(np.arange(len(emb2)) + 0.25, emb2, width=0.25, alpha=0.8, label='item 2')\n",
    "    plt.axhline(0, color='black', linewidth=0.8)\n",
    "    plt.xticks(())\n",
    "    plt.legend()\n",
    "    plt.show()\n",
    "plot_embeddings(item1_embedding, item2_embedding)"
   ]
  },
  {
   "cell_type": "code",
   "execution_count": 5,
   "id": "897c382a-788a-4be7-9d5d-b6986132deb4",
   "metadata": {},
   "outputs": [
    {
     "name": "stdout",
     "output_type": "stream",
     "text": [
      "[ 2 -6  6 12]\n"
     ]
    }
   ],
   "source": [
    "product = item1_embedding * item2_embedding\n",
    "print(product)"
   ]
  },
  {
   "cell_type": "code",
   "execution_count": 6,
   "id": "1491f452-a085-4be0-92dc-8371d60e8a21",
   "metadata": {},
   "outputs": [
    {
     "data": {
      "image/png": "[encoded data removed]",
      "text/plain": [
       "<Figure size 500x500 with 1 Axes>"
      ]
     },
     "metadata": {},
     "output_type": "display_data"
    }
   ],
   "source": [
    "plt.figure(figsize=(5, 5))\n",
    "plt.bar(np.arange(len(product)), product, width=0.25, alpha=0.8)\n",
    "plt.axhline(0, color='black', linewidth=0.8)\n",
    "# Add text labels above each bar\n",
    "for i, v in enumerate(product):\n",
    "    plt.text(i, v + 0.5 if v >= 0 else v - 1.5, v, ha='center')\n",
    "plt.xticks(())\n",
    "plt.ylim(-8, 18)\n",
    "plt.show()"
   ]
  },
  {
   "cell_type": "markdown",
   "id": "3338d567-e739-42dd-a857-d3a1c13650cb",
   "metadata": {},
   "source": [
    "### Vectorization"
   ]
  },
  {
   "cell_type": "code",
   "execution_count": 7,
   "id": "e1104032-7a41-4233-9623-efb968e2727a",
   "metadata": {},
   "outputs": [
    {
     "name": "stdout",
     "output_type": "stream",
     "text": [
      "item_embeddings.shape=(3, 4) search_embeddings.shape=(1, 4) products.shape=(3, 4)\n"
     ]
    }
   ],
   "source": [
    "item_embeddings = np.array([\n",
    "    [1, 2, -3, 4],\n",
    "    [2, -3, -2, 4],\n",
    "    [-1, -2, 3, -4]\n",
    "])\n",
    "\n",
    "search_embeddings = np.array([\n",
    "    [1, 2, -3, 4]\n",
    "])\n",
    "\n",
    "products = item_embeddings * search_embeddings\n",
    "print(f'{item_embeddings.shape=} {search_embeddings.shape=} {products.shape=}')"
   ]
  },
  {
   "cell_type": "code",
   "execution_count": 8,
   "id": "48b2b617-46b4-42d3-ae93-b5a36bdb7404",
   "metadata": {},
   "outputs": [
    {
     "data": {
      "text/plain": [
       "array([[  1,   4,   9,  16],\n",
       "       [  2,  -6,   6,  16],\n",
       "       [ -1,  -4,  -9, -16]])"
      ]
     },
     "execution_count": 8,
     "metadata": {},
     "output_type": "execute_result"
    }
   ],
   "source": [
    "products"
   ]
  },
  {
   "cell_type": "code",
   "execution_count": 9,
   "id": "8b34c831-7679-4756-bdbe-1a1a74ecf412",
   "metadata": {},
   "outputs": [
    {
     "data": {
      "text/plain": [
       "array([[ 30],\n",
       "       [ 18],\n",
       "       [-30]])"
      ]
     },
     "execution_count": 9,
     "metadata": {},
     "output_type": "execute_result"
    }
   ],
   "source": [
    "products.sum(axis=1, keepdims=True)"
   ]
  },
  {
   "cell_type": "code",
   "execution_count": 10,
   "id": "478a10fe-4e9a-4e08-be90-ae068e3cab29",
   "metadata": {},
   "outputs": [
    {
     "data": {
      "text/plain": [
       "array([[ 30],\n",
       "       [ 18],\n",
       "       [-30]])"
      ]
     },
     "execution_count": 10,
     "metadata": {},
     "output_type": "execute_result"
    }
   ],
   "source": [
    "# we can use matmul to get the matrix product\n",
    "np.matmul(item_embeddings, search_embeddings.T)    # .T transposes matrix"
   ]
  },
  {
   "cell_type": "code",
   "execution_count": 11,
   "id": "95b6586d-6d81-4faf-833b-21534982ab26",
   "metadata": {},
   "outputs": [
    {
     "data": {
      "text/plain": [
       "array([[ 30, -30],\n",
       "       [ 18, -18],\n",
       "       [-30,  30]])"
      ]
     },
     "execution_count": 11,
     "metadata": {},
     "output_type": "execute_result"
    }
   ],
   "source": [
    "item_embeddings = np.array([\n",
    "    [1, 2, -3, 4],\n",
    "    [2, -3, -2, 4],\n",
    "    [-1, -2, 3, -4]\n",
    "])\n",
    "\n",
    "search_embeddings = np.array([\n",
    "    [1, 2, -3, 4],\n",
    "    [-1, -2, 3, -4]\n",
    "])\n",
    "\n",
    "prod = np.matmul(item_embeddings, search_embeddings.T)\n",
    "prod"
   ]
  },
  {
   "cell_type": "markdown",
   "id": "6895c8ce-8552-4478-a031-82bd6ec8d0e6",
   "metadata": {},
   "source": [
    "### Normalizing similarity"
   ]
  },
  {
   "cell_type": "code",
   "execution_count": 12,
   "id": "a7a0f7c4-f828-4f28-bc3d-6a9393d4eabb",
   "metadata": {},
   "outputs": [
    {
     "data": {
      "text/plain": [
       "array([[0.99999386, 0.        ],\n",
       "       [0.00000614, 0.        ],\n",
       "       [0.        , 1.        ]])"
      ]
     },
     "execution_count": 12,
     "metadata": {},
     "output_type": "execute_result"
    }
   ],
   "source": [
    "np.set_printoptions(suppress=True)\n",
    "\n",
    "def softmax(x):\n",
    "    return np.exp(x) / np.sum(np.exp(x), axis=0, keepdims=True)   # exp(x)=e^x\n",
    "\n",
    "attention_scores = softmax(prod)\n",
    "attention_scores"
   ]
  },
  {
   "cell_type": "code",
   "execution_count": 13,
   "id": "9581d9ba-e080-41b7-bce4-d11fe05a9fc8",
   "metadata": {},
   "outputs": [
    {
     "data": {
      "text/plain": [
       "array([[0.4090761 ],\n",
       "       [0.09127722],\n",
       "       [0.49964668]])"
      ]
     },
     "execution_count": 13,
     "metadata": {},
     "output_type": "execute_result"
    }
   ],
   "source": [
    "prod = np.array ([[1],\n",
    "                  [-0.5],\n",
    "                  [1.2]])\n",
    "softmax(prod)"
   ]
  },
  {
   "cell_type": "code",
   "execution_count": 14,
   "id": "7624e4ce-d84e-4e1c-b91f-df072e088205",
   "metadata": {},
   "outputs": [
    {
     "data": {
      "text/plain": [
       "array([[0.11920292],\n",
       "       [0.00000004],\n",
       "       [0.88079705]])"
      ]
     },
     "execution_count": 14,
     "metadata": {},
     "output_type": "execute_result"
    }
   ],
   "source": [
    "prod = np.array ([[10],\n",
    "                  [-5],\n",
    "                  [12]])\n",
    "softmax(prod)     # since numbers are big, over preference exits"
   ]
  },
  {
   "cell_type": "markdown",
   "id": "f0f6fd51-0452-4ab3-b324-ca14b5eeea33",
   "metadata": {},
   "source": [
    "### Reducing Skew\n",
    "\n",
    "Note: The skew is only bad when a network is initialized with random weights, the skew should be learned by fitting to the training data."
   ]
  },
  {
   "cell_type": "code",
   "execution_count": 15,
   "id": "bcb47994-84fe-40c7-8ab7-d936f2601c94",
   "metadata": {},
   "outputs": [
    {
     "data": {
      "text/plain": [
       "array([[0.25095801],\n",
       "       [0.25243037],\n",
       "       [0.24860256],\n",
       "       [0.24800906]])"
      ]
     },
     "execution_count": 15,
     "metadata": {},
     "output_type": "execute_result"
    }
   ],
   "source": [
    "num_items = 4\n",
    "num_queries = 1\n",
    "\n",
    "embed_size = 1\n",
    "\n",
    "item_embeddings = np.random.uniform(-1, 1, size=(num_items, embed_size))\n",
    "search_embeddings = np.random.uniform(-1, 1, size=(num_queries, embed_size))\n",
    "prod = np.matmul(item_embeddings, search_embeddings.T) / np.sqrt(embed_size)    # adding normalization\n",
    "attention_scores = softmax(prod)\n",
    "attention_scores"
   ]
  },
  {
   "cell_type": "markdown",
   "id": "afa55854-7255-41e7-b85e-1caa59dab65a",
   "metadata": {},
   "source": [
    "### Contextual Embeddings\n",
    "\n",
    "Note: an \"attention context\" can be thought out as a weighted mean of the different key items.\n",
    "\n",
    "Key embeddings are used for calculating attention scores/weights<br>\n",
    "Value embeddings are used for the weighted mean<br><br>\n",
    "Attention allows us to do contextual averaging of value embeddings"
   ]
  },
  {
   "cell_type": "code",
   "execution_count": 16,
   "id": "de022c0c-7d28-4a50-a26f-fabb1da1a920",
   "metadata": {},
   "outputs": [],
   "source": [
    "def attention_scores(key_embeddings, query_embeddings):\n",
    "    return softmax(np.matmul(key_embeddings, query_embeddings.T) / np.sqrt(key_embeddings.shape[1]))"
   ]
  },
  {
   "cell_type": "code",
   "execution_count": 17,
   "id": "1b376360-93aa-4123-8c0a-dff9943bc8ea",
   "metadata": {},
   "outputs": [
    {
     "data": {
      "text/plain": [
       "array([[0.35489092],\n",
       "       [0.32221385],\n",
       "       [0.32289523]])"
      ]
     },
     "execution_count": 17,
     "metadata": {},
     "output_type": "execute_result"
    }
   ],
   "source": [
    "num_keys = 3\n",
    "num_queries = 1\n",
    "\n",
    "embed_size = 4\n",
    "\n",
    "key_embeddings = np.random.uniform(-1, 1, size=(num_keys, embed_size))\n",
    "query_embeddings = np.random.uniform(-1, 1, size=(num_queries, embed_size))\n",
    "value_embeddings = np.random.uniform(-1, 1, size=(num_keys, embed_size))\n",
    "\n",
    "attention_scores = attention_scores(key_embeddings, query_embeddings)\n",
    "attention_scores"
   ]
  },
  {
   "cell_type": "markdown",
   "id": "f0a40176-31c6-4bf4-8e07-44b9e7c8cbb0",
   "metadata": {},
   "source": [
    "### Context Embeddings"
   ]
  },
  {
   "cell_type": "code",
   "execution_count": 18,
   "id": "9cbcd195-c8d9-4923-9c94-d50633c30d42",
   "metadata": {},
   "outputs": [
    {
     "data": {
      "text/plain": [
       "array([[-0.13030235, -0.5801874 , -0.36911158, -0.24800142]])"
      ]
     },
     "execution_count": 18,
     "metadata": {},
     "output_type": "execute_result"
    }
   ],
   "source": [
    "context_embeddings = np.matmul(attention_scores.T, value_embeddings)\n",
    "context_embeddings"
   ]
  },
  {
   "cell_type": "code",
   "execution_count": 19,
   "id": "d2e9a390-0b71-4fdd-ba0e-094265e52783",
   "metadata": {},
   "outputs": [
    {
     "data": {
      "text/plain": [
       "array([[-0.5218319 , -0.72490943, -0.65903747, -0.3182499 ],\n",
       "       [ 0.81982748, -0.11796767, -0.6387231 ,  0.1073417 ],\n",
       "       [-0.648101  , -0.88236922,  0.21858565, -0.52538529]])"
      ]
     },
     "execution_count": 19,
     "metadata": {},
     "output_type": "execute_result"
    }
   ],
   "source": [
    "value_embeddings"
   ]
  },
  {
   "cell_type": "markdown",
   "id": "4c021bdb-ac51-4f53-b808-092f0731960b",
   "metadata": {},
   "source": [
    "### Attention with Torch\n",
    "Note: batch dimension is a way to parallely process multiple data samples at once"
   ]
  },
  {
   "cell_type": "code",
   "execution_count": 20,
   "id": "51b096ca-7721-4bba-9c99-66517bf14137",
   "metadata": {},
   "outputs": [],
   "source": [
    "import torch\n",
    "import torch.nn as nn\n",
    "import math\n",
    "import torch.nn.functional as F"
   ]
  },
  {
   "cell_type": "code",
   "execution_count": 21,
   "id": "23e445dd-2b9d-4151-b88c-3bb28ee60168",
   "metadata": {},
   "outputs": [],
   "source": [
    "def calculate_attention(\n",
    "    values: torch.Tensor,\n",
    "    keys: torch.Tensor,\n",
    "    query: torch.Tensor,\n",
    "):\n",
    "    # perform matmul\n",
    "    attention_scores = torch.matmul(query, keys.transpose(-2, -1))\n",
    "\n",
    "    # calculate attention\n",
    "    attention_scores = attention_scores / math.sqrt(keys.shape[-1])\n",
    "    attention_scores = F.softmax(attention_scores, dim=1)   # normalize\n",
    "    attention = torch.matmul(attention_scores, values)\n",
    "    return attention, attention_scores"
   ]
  },
  {
   "cell_type": "code",
   "execution_count": 24,
   "id": "beca016e-b94e-4b08-bd51-7cabd5d309b3",
   "metadata": {},
   "outputs": [],
   "source": [
    "batch_size = 2\n",
    "num_queries = 4\n",
    "num_keys = 16\n",
    "embed_size = 8\n",
    "\n",
    "query = torch.randn(batch_size, num_queries, embed_size)\n",
    "keys = torch.randn(batch_size, num_keys, embed_size)\n",
    "values = torch.randn(batch_size, num_keys, embed_size)"
   ]
  },
  {
   "cell_type": "code",
   "execution_count": 25,
   "id": "bcd3d04d-c3f4-4473-a04d-9a794cd134c5",
   "metadata": {},
   "outputs": [],
   "source": [
    "attention, attention_scores = calculate_attention(values, keys, query)"
   ]
  },
  {
   "cell_type": "code",
   "execution_count": 26,
   "id": "703688e1-b1b7-44a6-849d-66eb3c3ac2af",
   "metadata": {},
   "outputs": [
    {
     "data": {
      "text/plain": [
       "(torch.Size([2, 4, 8]), torch.Size([2, 4, 16]))"
      ]
     },
     "execution_count": 26,
     "metadata": {},
     "output_type": "execute_result"
    }
   ],
   "source": [
    "attention.shape, attention_scores.shape"
   ]
  },
  {
   "cell_type": "code",
   "execution_count": 50,
   "id": "13b44ede-0e37-4f54-b329-debb0f9cac47",
   "metadata": {},
   "outputs": [
    {
     "name": "stdout",
     "output_type": "stream",
     "text": [
      "{'train': 0, '!': 1, 'we': 2, 'attention': 3, '.': 4, 'will': 5}\n"
     ]
    }
   ],
   "source": [
    "text = \"attention ! we will train attention .\"\n",
    "text_tokens = text.split()\n",
    "vocab = set(text_tokens)\n",
    "vocab_to_idx = {token: idx for idx, token in enumerate(vocab)}\n",
    "print(vocab_to_idx)"
   ]
  },
  {
   "cell_type": "code",
   "execution_count": 51,
   "id": "78cd9560-6e99-41df-ae8d-a42119523afc",
   "metadata": {},
   "outputs": [
    {
     "name": "stdout",
     "output_type": "stream",
     "text": [
      "tensor([[3, 1, 2, 5, 0, 3, 4]]) \n",
      "shape: torch.Size([1, 7])\n"
     ]
    }
   ],
   "source": [
    "int_tokens = torch.tensor([vocab_to_idx[token] for token in text_tokens])\n",
    "int_tokens = int_tokens.unsqueeze(0)   # add dimension to vector (instead of size [7], size [1,7])\n",
    "print(int_tokens, \"\\nshape:\", int_tokens.shape)"
   ]
  },
  {
   "cell_type": "code",
   "execution_count": 52,
   "id": "9771707b-22b6-4ced-9469-044e1854cfcd",
   "metadata": {},
   "outputs": [],
   "source": [
    "embedding_layer = nn.Embedding(num_embeddings=len(vocab), embedding_dim=8)   #create embeddings given vocab and dimension"
   ]
  },
  {
   "cell_type": "code",
   "execution_count": 53,
   "id": "6b00b94d-a609-4e87-a1d0-dad02a61c912",
   "metadata": {},
   "outputs": [
    {
     "data": {
      "text/plain": [
       "Parameter containing:\n",
       "tensor([[-1.9212, -0.3754,  1.3592,  0.5905, -1.3943, -1.1740,  0.5535,  0.7490],\n",
       "        [-0.1627,  1.8073, -1.1398,  0.2125,  1.2963, -0.3229,  0.1107,  0.4007],\n",
       "        [ 0.1364,  0.7996, -0.0675, -0.8208,  0.8766, -0.2193, -0.8482,  0.9698],\n",
       "        [-0.2813, -0.4880, -2.2235,  0.5737, -1.7065,  2.3495,  1.9557, -0.5051],\n",
       "        [ 0.0134, -0.8820, -1.1370, -0.8105,  1.8266,  0.4660, -0.1464, -0.2607],\n",
       "        [ 0.3822,  1.7236, -0.8083,  1.2254, -0.5015,  0.8880,  0.4678,  0.0830]],\n",
       "       requires_grad=True)"
      ]
     },
     "execution_count": 53,
     "metadata": {},
     "output_type": "execute_result"
    }
   ],
   "source": [
    "embedding_layer.weight"
   ]
  },
  {
   "cell_type": "code",
   "execution_count": 54,
   "id": "04b2a04a-7af4-4399-bffd-8ae263b2a663",
   "metadata": {},
   "outputs": [
    {
     "data": {
      "text/plain": [
       "tensor([[[-0.2813, -0.4880, -2.2235,  0.5737, -1.7065,  2.3495,  1.9557,\n",
       "          -0.5051],\n",
       "         [-0.1627,  1.8073, -1.1398,  0.2125,  1.2963, -0.3229,  0.1107,\n",
       "           0.4007],\n",
       "         [ 0.1364,  0.7996, -0.0675, -0.8208,  0.8766, -0.2193, -0.8482,\n",
       "           0.9698],\n",
       "         [ 0.3822,  1.7236, -0.8083,  1.2254, -0.5015,  0.8880,  0.4678,\n",
       "           0.0830],\n",
       "         [-1.9212, -0.3754,  1.3592,  0.5905, -1.3943, -1.1740,  0.5535,\n",
       "           0.7490],\n",
       "         [-0.2813, -0.4880, -2.2235,  0.5737, -1.7065,  2.3495,  1.9557,\n",
       "          -0.5051],\n",
       "         [ 0.0134, -0.8820, -1.1370, -0.8105,  1.8266,  0.4660, -0.1464,\n",
       "          -0.2607]]], grad_fn=<EmbeddingBackward0>)"
      ]
     },
     "execution_count": 54,
     "metadata": {},
     "output_type": "execute_result"
    }
   ],
   "source": [
    "embeddings = embedding_layer(int_tokens)   # get embeddings \n",
    "embeddings"
   ]
  },
  {
   "cell_type": "code",
   "execution_count": 66,
   "id": "e0e319ee-1187-47ca-b3c7-5a940f164128",
   "metadata": {},
   "outputs": [],
   "source": [
    "embedding_dim = embeddings.shape[2]"
   ]
  },
  {
   "cell_type": "code",
   "execution_count": 67,
   "id": "8097e70c-b250-4c8a-af68-2f2e6210db86",
   "metadata": {},
   "outputs": [],
   "source": [
    "query_dense_layer = nn.Linear(in_features=embedding_dim, out_features=8)\n",
    "key_dense_layer = nn.Linear(in_features=embedding_dim, out_features=8)\n",
    "value_dense_layer = nn.Linear(in_features=embedding_dim, out_features=8)"
   ]
  },
  {
   "cell_type": "code",
   "execution_count": 68,
   "id": "49b32431-54d8-44ac-b408-a5098cd2f9f1",
   "metadata": {},
   "outputs": [
    {
     "data": {
      "text/plain": [
       "(torch.Size([1, 7, 8]), torch.Size([1, 7, 8]), torch.Size([1, 7, 8]))"
      ]
     },
     "execution_count": 68,
     "metadata": {},
     "output_type": "execute_result"
    }
   ],
   "source": [
    "query = query_dense_layer(embeddings)\n",
    "key = key_dense_layer(embeddings)\n",
    "value = value_dense_layer(embeddings)\n",
    "\n",
    "query.shape, key.shape, value.shape"
   ]
  },
  {
   "cell_type": "code",
   "execution_count": 70,
   "id": "9a210d6f-9800-4af9-a75f-404576b80588",
   "metadata": {},
   "outputs": [
    {
     "data": {
      "text/plain": [
       "(torch.Size([1, 7, 8]), torch.Size([1, 7, 7]))"
      ]
     },
     "execution_count": 70,
     "metadata": {},
     "output_type": "execute_result"
    }
   ],
   "source": [
    "attention, attention_scores = calculate_attention(value, key, query)\n",
    "attention.shape, attention_scores.shape"
   ]
  },
  {
   "cell_type": "code",
   "execution_count": 71,
   "id": "9b9f567b-2847-48a2-bd83-25890c2967c8",
   "metadata": {},
   "outputs": [
    {
     "data": {
      "text/plain": [
       "tensor([[[0.1675, 0.1664, 0.1575, 0.1527, 0.1121, 0.1675, 0.1946],\n",
       "         [0.1473, 0.1378, 0.1493, 0.1357, 0.1602, 0.1473, 0.1138],\n",
       "         [0.1169, 0.1286, 0.1292, 0.1236, 0.1188, 0.1169, 0.1174],\n",
       "         [0.1423, 0.1757, 0.1490, 0.1811, 0.1369, 0.1423, 0.1036],\n",
       "         [0.1379, 0.1065, 0.1251, 0.1425, 0.2748, 0.1379, 0.0802],\n",
       "         [0.1675, 0.1664, 0.1575, 0.1527, 0.1121, 0.1675, 0.1946],\n",
       "         [0.1205, 0.1186, 0.1323, 0.1116, 0.0851, 0.1205, 0.1959]]],\n",
       "       grad_fn=<SoftmaxBackward0>)"
      ]
     },
     "execution_count": 71,
     "metadata": {},
     "output_type": "execute_result"
    }
   ],
   "source": [
    "attention_scores"
   ]
  },
  {
   "cell_type": "markdown",
   "id": "69b07d81-5511-4736-a55a-75dd123e31a0",
   "metadata": {},
   "source": [
    "Attention masks allow us to fix the problem of looking at every word all at once, we need to only be looking backward when generating"
   ]
  },
  {
   "cell_type": "code",
   "execution_count": 73,
   "id": "a7e3c69c-cf1e-4dba-8209-5bdb60343d39",
   "metadata": {},
   "outputs": [
    {
     "data": {
      "text/plain": [
       "tensor([[[1., 0., 0., 0., 0., 0., 0.],\n",
       "         [1., 1., 0., 0., 0., 0., 0.],\n",
       "         [1., 1., 1., 0., 0., 0., 0.],\n",
       "         [1., 1., 1., 1., 0., 0., 0.],\n",
       "         [1., 1., 1., 1., 1., 0., 0.],\n",
       "         [1., 1., 1., 1., 1., 1., 0.],\n",
       "         [1., 1., 1., 1., 1., 1., 1.]]])"
      ]
     },
     "execution_count": 73,
     "metadata": {},
     "output_type": "execute_result"
    }
   ],
   "source": [
    "right_triangular_mask = torch.tril(torch.ones_like(attention_scores))\n",
    "right_triangular_mask"
   ]
  },
  {
   "cell_type": "code",
   "execution_count": 77,
   "id": "e99f3f3b-e3b1-4970-b913-8edcbb023188",
   "metadata": {},
   "outputs": [],
   "source": [
    "def calculate_masked_attention(\n",
    "    values: torch.Tensor,\n",
    "    keys: torch.Tensor,\n",
    "    query: torch.Tensor,\n",
    "    mask: torch.Tensor = None,\n",
    "):\n",
    "    # perform matmul\n",
    "    attention_scores = torch.matmul(query, keys.transpose(-2, -1))\n",
    "    if mask is not None:\n",
    "        attention_scores = torch.where(mask == 0, torch.tensor(-1e9), attention_scores)\n",
    "    \n",
    "    # calculate attention\n",
    "    attention_scores = attention_scores / math.sqrt(keys.shape[-1])\n",
    "    attention_scores = F.softmax(attention_scores, dim=1)   # normalize\n",
    "    attention = torch.matmul(attention_scores, values)\n",
    "    return attention, attention_scores"
   ]
  },
  {
   "cell_type": "code",
   "execution_count": 78,
   "id": "37d395a0-001e-46b8-954d-d3b4c1028ec2",
   "metadata": {},
   "outputs": [],
   "source": [
    "attention_context, attention_scores = calculate_masked_attention(value, key, query, right_triangular_mask)"
   ]
  },
  {
   "cell_type": "code",
   "execution_count": 79,
   "id": "1ad520a7-3678-4043-8e60-13ff8765698d",
   "metadata": {},
   "outputs": [
    {
     "data": {
      "text/plain": [
       "torch.Size([1, 7, 8])"
      ]
     },
     "execution_count": 79,
     "metadata": {},
     "output_type": "execute_result"
    }
   ],
   "source": [
    "attention_context.shape"
   ]
  },
  {
   "cell_type": "code",
   "execution_count": 80,
   "id": "92603d2a-66c3-424b-b5e6-c201d572ffbd",
   "metadata": {},
   "outputs": [
    {
     "data": {
      "text/plain": [
       "tensor([[[0.1675, 0.0000, 0.0000, 0.0000, 0.0000, 0.0000, 0.0000],\n",
       "         [0.1473, 0.1653, 0.0000, 0.0000, 0.0000, 0.0000, 0.0000],\n",
       "         [0.1169, 0.1543, 0.1864, 0.0000, 0.0000, 0.0000, 0.0000],\n",
       "         [0.1423, 0.2108, 0.2150, 0.3080, 0.0000, 0.0000, 0.0000],\n",
       "         [0.1379, 0.1277, 0.1804, 0.2424, 0.5821, 0.0000, 0.0000],\n",
       "         [0.1675, 0.1996, 0.2272, 0.2598, 0.2375, 0.5816, 0.0000],\n",
       "         [0.1205, 0.1423, 0.1909, 0.1898, 0.1803, 0.4184, 1.0000]]],\n",
       "       grad_fn=<SoftmaxBackward0>)"
      ]
     },
     "execution_count": 80,
     "metadata": {},
     "output_type": "execute_result"
    }
   ],
   "source": [
    "attention_scores"
   ]
  },
  {
   "cell_type": "markdown",
   "id": "1d51e6e7-761d-4937-8a65-ec9be789782c",
   "metadata": {},
   "source": [
    "### Transformer Decoder"
   ]
  },
  {
   "cell_type": "code",
   "execution_count": null,
   "id": "cd3c72fc-2763-48f2-b4cd-1f18643bea9c",
   "metadata": {},
   "outputs": [],
   "source": []
  }
 ],
 "metadata": {
  "kernelspec": {
   "display_name": "Python 3 (ipykernel)",
   "language": "python",
   "name": "python3"
  },
  "language_info": {
   "codemirror_mode": {
    "name": "ipython",
    "version": 3
   },
   "file_extension": ".py",
   "mimetype": "text/x-python",
   "name": "python",
   "nbconvert_exporter": "python",
   "pygments_lexer": "ipython3",
   "version": "3.10.12"
  }
 },
 "nbformat": 4,
 "nbformat_minor": 5
}
