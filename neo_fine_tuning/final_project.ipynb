{
 "cells": [
  {
   "cell_type": "code",
   "execution_count": 44,
   "id": "19693eab-fef8-43e1-a3a4-c687b080cd0d",
   "metadata": {},
   "outputs": [
    {
     "name": "stdout",
     "output_type": "stream",
     "text": [
      "True\n",
      "NVIDIA GeForce RTX 3070\n"
     ]
    }
   ],
   "source": [
    "# check if the GPU is detected\n",
    "\n",
    "import torch\n",
    "print(torch.cuda.is_available())\n",
    "print(torch.cuda.get_device_name(0))"
   ]
  },
  {
   "cell_type": "code",
   "execution_count": 45,
   "id": "1a586c73-f802-4e11-868a-0ab6831eb715",
   "metadata": {},
   "outputs": [
    {
     "data": {
      "text/plain": [
       "'/home/reggie/.cache/huggingface/hub/models--TinyLlama--TinyLlama-1.1B-Chat-v1.0/snapshots/fe8a4ea1ffedaf415f4da2f062534de366a451e6/config.json'"
      ]
     },
     "execution_count": 45,
     "metadata": {},
     "output_type": "execute_result"
    }
   ],
   "source": [
    "# download TinyLlama 1.1B\n",
    "\n",
    "from huggingface_hub import hf_hub_download\n",
    "hf_hub_download(repo_id=\"TinyLlama/TinyLlama-1.1B-Chat-v1.0\", filename=\"config.json\")"
   ]
  },
  {
   "cell_type": "code",
   "execution_count": 46,
   "id": "f0c79d6c-01bd-42cb-bd14-a9288f002b68",
   "metadata": {},
   "outputs": [
    {
     "data": {
      "text/html": [
       "<div>\n",
       "<style scoped>\n",
       "    .dataframe tbody tr th:only-of-type {\n",
       "        vertical-align: middle;\n",
       "    }\n",
       "\n",
       "    .dataframe tbody tr th {\n",
       "        vertical-align: top;\n",
       "    }\n",
       "\n",
       "    .dataframe thead th {\n",
       "        text-align: right;\n",
       "    }\n",
       "</style>\n",
       "<table border=\"1\" class=\"dataframe\">\n",
       "  <thead>\n",
       "    <tr style=\"text-align: right;\">\n",
       "      <th></th>\n",
       "      <th>Question</th>\n",
       "      <th>Answer</th>\n",
       "    </tr>\n",
       "  </thead>\n",
       "  <tbody>\n",
       "    <tr>\n",
       "      <th>0</th>\n",
       "      <td>What is the importance of body alignment in fr...</td>\n",
       "      <td>Maintaining a streamlined body position reduce...</td>\n",
       "    </tr>\n",
       "    <tr>\n",
       "      <th>1</th>\n",
       "      <td>How does head position affect freestyle techni...</td>\n",
       "      <td>Keeping the head in line with the spine and lo...</td>\n",
       "    </tr>\n",
       "    <tr>\n",
       "      <th>2</th>\n",
       "      <td>What is the role of hip rotation in freestyle?</td>\n",
       "      <td>Proper hip rotation enhances stroke length and...</td>\n",
       "    </tr>\n",
       "    <tr>\n",
       "      <th>3</th>\n",
       "      <td>Why is a high elbow important during the catch...</td>\n",
       "      <td>A high elbow position during the catch phase a...</td>\n",
       "    </tr>\n",
       "    <tr>\n",
       "      <th>4</th>\n",
       "      <td>How can I improve my freestyle breathing techn...</td>\n",
       "      <td>Practice bilateral breathing and exhale fully ...</td>\n",
       "    </tr>\n",
       "    <tr>\n",
       "      <th>...</th>\n",
       "      <td>...</td>\n",
       "      <td>...</td>\n",
       "    </tr>\n",
       "    <tr>\n",
       "      <th>512</th>\n",
       "      <td>What strategies can help me increase my breast...</td>\n",
       "      <td>Perform short sprints with a focus on quick t...</td>\n",
       "    </tr>\n",
       "    <tr>\n",
       "      <th>513</th>\n",
       "      <td>How do I improve my breaststroke pullout?</td>\n",
       "      <td>Practice underwater pullout drills emphasizin...</td>\n",
       "    </tr>\n",
       "    <tr>\n",
       "      <th>514</th>\n",
       "      <td>What techniques can help me reduce drag in bre...</td>\n",
       "      <td>Focus on keeping your head in line with your ...</td>\n",
       "    </tr>\n",
       "    <tr>\n",
       "      <th>515</th>\n",
       "      <td>How can I develop better breaststroke turns?</td>\n",
       "      <td>Incorporate open turn drills concentrating on...</td>\n",
       "    </tr>\n",
       "    <tr>\n",
       "      <th>516</th>\n",
       "      <td>What drills can help me with breaststroke tempo?</td>\n",
       "      <td>Use the breaststroke with flutter kick drill ...</td>\n",
       "    </tr>\n",
       "  </tbody>\n",
       "</table>\n",
       "<p>517 rows × 2 columns</p>\n",
       "</div>"
      ],
      "text/plain": [
       "                                              Question  \\\n",
       "0    What is the importance of body alignment in fr...   \n",
       "1    How does head position affect freestyle techni...   \n",
       "2       What is the role of hip rotation in freestyle?   \n",
       "3    Why is a high elbow important during the catch...   \n",
       "4    How can I improve my freestyle breathing techn...   \n",
       "..                                                 ...   \n",
       "512  What strategies can help me increase my breast...   \n",
       "513          How do I improve my breaststroke pullout?   \n",
       "514  What techniques can help me reduce drag in bre...   \n",
       "515       How can I develop better breaststroke turns?   \n",
       "516   What drills can help me with breaststroke tempo?   \n",
       "\n",
       "                                                Answer  \n",
       "0    Maintaining a streamlined body position reduce...  \n",
       "1    Keeping the head in line with the spine and lo...  \n",
       "2    Proper hip rotation enhances stroke length and...  \n",
       "3    A high elbow position during the catch phase a...  \n",
       "4    Practice bilateral breathing and exhale fully ...  \n",
       "..                                                 ...  \n",
       "512   Perform short sprints with a focus on quick t...  \n",
       "513   Practice underwater pullout drills emphasizin...  \n",
       "514   Focus on keeping your head in line with your ...  \n",
       "515   Incorporate open turn drills concentrating on...  \n",
       "516   Use the breaststroke with flutter kick drill ...  \n",
       "\n",
       "[517 rows x 2 columns]"
      ]
     },
     "execution_count": 46,
     "metadata": {},
     "output_type": "execute_result"
    }
   ],
   "source": [
    "import pandas as pd\n",
    "raw_data = pd.read_csv('swim_dataset.csv')\n",
    "raw_data"
   ]
  },
  {
   "cell_type": "code",
   "execution_count": 47,
   "id": "c78293eb-afb1-4860-8f79-042a26d0c758",
   "metadata": {},
   "outputs": [],
   "source": [
    "# define data format\n",
    "def preprocess(example):\n",
    "    return {\n",
    "        \"prompt\": f\"<|user|> {example['Question']} <|assistant|> {example['Answer']}\"\n",
    "    }"
   ]
  },
  {
   "cell_type": "code",
   "execution_count": 51,
   "id": "121add91-bc96-42b6-b287-73dd212b12ee",
   "metadata": {},
   "outputs": [],
   "source": [
    "from transformers import AutoModelForCausalLM, AutoTokenizer, BitsAndBytesConfig\n",
    "from peft import prepare_model_for_kbit_training\n",
    "\n",
    "model_name = \"TinyLlama/TinyLlama-1.1B-Chat-v1.0\"\n",
    "device_map = {\"\": torch.cuda.current_device()}\n",
    "\n",
    "quant_config = BitsAndBytesConfig(\n",
    "    load_in_8bit=True,\n",
    "    llm_int8_enable_fp32_cpu_offload=True\n",
    ")\n",
    "\n",
    "tokenizer = AutoTokenizer.from_pretrained(model_name)\n",
    "model = AutoModelForCausalLM.from_pretrained(\n",
    "    model_name,\n",
    "    quantization_config=quant_config,\n",
    "    device_map=device_map\n",
    ")\n",
    "\n",
    "model = prepare_model_for_kbit_training(model)"
   ]
  },
  {
   "cell_type": "code",
   "execution_count": 52,
   "id": "897d2f43-fcd9-4000-a1ee-4f9ead06ea17",
   "metadata": {},
   "outputs": [],
   "source": [
    "# load and tokenize dataset\n",
    "\n",
    "from datasets import load_dataset\n",
    "\n",
    "dataset = load_dataset(\"csv\", data_files=\"swim_dataset.csv\")\n",
    "dataset = dataset.map(preprocess)\n",
    "\n",
    "def tokenize_function(examples):\n",
    "    return tokenizer(examples[\"prompt\"], truncation=True, padding=\"max_length\", max_length=512)\n",
    "\n",
    "tokenized = dataset.map(tokenize_function, batched=True)\n",
    "tokenized.set_format(type=\"torch\", columns=[\"input_ids\", \"attention_mask\"])"
   ]
  },
  {
   "cell_type": "code",
   "execution_count": null,
   "id": "c8d32635-8280-4075-bfc0-8508902bb709",
   "metadata": {},
   "outputs": [],
   "source": []
  }
 ],
 "metadata": {
  "kernelspec": {
   "display_name": "Python 3 (ipykernel)",
   "language": "python",
   "name": "python3"
  },
  "language_info": {
   "codemirror_mode": {
    "name": "ipython",
    "version": 3
   },
   "file_extension": ".py",
   "mimetype": "text/x-python",
   "name": "python",
   "nbconvert_exporter": "python",
   "pygments_lexer": "ipython3",
   "version": "3.10.12"
  }
 },
 "nbformat": 4,
 "nbformat_minor": 5
}
