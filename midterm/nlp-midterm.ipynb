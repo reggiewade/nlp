{
 "cells": [
  {
   "cell_type": "code",
   "execution_count": 89,
   "id": "e1bd0cd4-50d4-4342-b780-f8318fc039d7",
   "metadata": {},
   "outputs": [],
   "source": [
    "import pandas as pd\n",
    "import numpy as np\n",
    "from collections import Counter as ctr"
   ]
  },
  {
   "cell_type": "code",
   "execution_count": 90,
   "id": "cd9f5492-d754-46c6-a5f5-9c6ddeb58b5f",
   "metadata": {},
   "outputs": [],
   "source": [
    "data = pd.read_csv('pnp-train-2.txt',delimiter='\\t',encoding='latin-1', names=['type','name'])\n",
    "# basic tokenization\n",
    "data['clean'] = data.name.apply(lambda x: x.lower().split())"
   ]
  },
  {
   "cell_type": "markdown",
   "id": "cffde306-6649-40e6-9d33-91f7e3f975dc",
   "metadata": {},
   "source": [
    "### Split into train and test data"
   ]
  },
  {
   "cell_type": "code",
   "execution_count": 91,
   "id": "108c34e4-e357-4235-8a3a-00ce9d387817",
   "metadata": {},
   "outputs": [],
   "source": [
    "from sklearn.model_selection import train_test_split\n",
    "train, test = train_test_split(data, test_size=0.2, random_state=200)\n",
    "\n",
    "# create ctr\n",
    "type_ctr = ctr(train.type)"
   ]
  },
  {
   "cell_type": "markdown",
   "id": "2eb3ff9b-3b83-49d2-a6ab-d0dadce0fc01",
   "metadata": {},
   "source": [
    "### Create Helper Functions for Naive-Based Classifier\n",
    "$$ΠP(C|w_1,w_2...) = \\frac{P(w_i|C)P(C)}{P(w_i)}$$"
   ]
  },
  {
   "cell_type": "code",
   "execution_count": 92,
   "id": "849dafb7-1d57-46c2-8c67-2089d4e6727b",
   "metadata": {},
   "outputs": [],
   "source": [
    "# P(C) - prior probability\n",
    "def Pa(C=''):\n",
    "    return type_ctr[C] / len(train)"
   ]
  },
  {
   "cell_type": "code",
   "execution_count": 93,
   "id": "9a022f38-86ef-494e-a38a-229bcf9c24b7",
   "metadata": {},
   "outputs": [],
   "source": [
    "# P(w_i) - probablity of word\n",
    "words_ctr = ctr([word for row in train.clean for word in row])\n",
    "\n",
    "def Pb(W=''):\n",
    "    if W not in words_ctr:\n",
    "        return 0.0001\n",
    "    return words_ctr[W] / sum(words_ctr.values())"
   ]
  },
  {
   "cell_type": "code",
   "execution_count": 94,
   "id": "d4d3d5ae-42f7-436f-b024-f7cb2e9ff12a",
   "metadata": {},
   "outputs": [],
   "source": [
    "# Get word counts given a type\n",
    "type_word_count = {}\n",
    "\n",
    "for col_name in list(set(data.type)):\n",
    "    sub_df = train[train.type == col_name]\n",
    "    type_word_count[col_name] = []\n",
    "    for row in sub_df.clean:\n",
    "        for word in row:\n",
    "            type_word_count[col_name].append(word)\n",
    "    type_word_count[col_name] = ctr(type_word_count[col_name])\n",
    "\n",
    "# Define P(w_i|C)\n",
    "def Pba(W='', C=''):\n",
    "    t = type_word_count[C]\n",
    "    if W not in t: return 0.0000001\n",
    "    return t[W] / sum(t.values())"
   ]
  },
  {
   "cell_type": "code",
   "execution_count": 95,
   "id": "bdbd39b7-35eb-40a4-a9f7-11f7ecbb711c",
   "metadata": {},
   "outputs": [],
   "source": [
    "# Define P(C|w1, w2, w3,...,wn)\n",
    "def Pab(C='', W=''):\n",
    "    return (Pba(W=W, C=C) * Pa(C=C) / Pb(W=W))"
   ]
  },
  {
   "cell_type": "code",
   "execution_count": 96,
   "id": "a6332aca-0a7f-4da4-b2cd-42ee86f1e9b2",
   "metadata": {},
   "outputs": [],
   "source": [
    "# define P(type|sentence)\n",
    "def Ps(S, C=''):\n",
    "    return np.prod([Pab(C=C, W=word) for word in S])"
   ]
  },
  {
   "cell_type": "code",
   "execution_count": 118,
   "id": "3a54dcef-ba97-4b98-b0e4-18ec08346679",
   "metadata": {},
   "outputs": [],
   "source": [
    "def bayesClassifier(df):\n",
    "    guesses = []\n",
    "    for _, row in df.iterrows():\n",
    "        bestProb = 0\n",
    "        bestGuess = ''\n",
    "        for currType in df['type'].unique():\n",
    "            currProb = Ps(S=row['clean'], C=currType)\n",
    "            if (currProb > bestProb):\n",
    "                bestGuess = currType\n",
    "                bestProb = currProb\n",
    "        guesses.append(bestGuess)\n",
    "    return guesses"
   ]
  },
  {
   "cell_type": "code",
   "execution_count": 119,
   "id": "30a4c3df-02b0-471d-932b-91ba27c35aa5",
   "metadata": {},
   "outputs": [],
   "source": [
    "train['guesses'] = bayesClassifier(train)"
   ]
  },
  {
   "cell_type": "code",
   "execution_count": 120,
   "id": "5d80c49f-f56e-44db-a37c-0d27ebeb8010",
   "metadata": {},
   "outputs": [
    {
     "data": {
      "text/plain": [
       "0.991547619047619"
      ]
     },
     "execution_count": 120,
     "metadata": {},
     "output_type": "execute_result"
    }
   ],
   "source": [
    "sum(train['type'] == train['guesses']) / len(train)"
   ]
  },
  {
   "cell_type": "code",
   "execution_count": 121,
   "id": "7bed0428-1dc9-4b03-95e1-64efc986c07f",
   "metadata": {},
   "outputs": [],
   "source": [
    "test['guesses'] = bayesClassifier(test)"
   ]
  },
  {
   "cell_type": "code",
   "execution_count": 123,
   "id": "18464c86-61c9-48fc-b8fc-b92d7c4241dc",
   "metadata": {},
   "outputs": [
    {
     "data": {
      "text/plain": [
       "0.6662699357295881"
      ]
     },
     "execution_count": 123,
     "metadata": {},
     "output_type": "execute_result"
    }
   ],
   "source": [
    "sum(test['type'] == test['guesses']) / len(test)"
   ]
  }
 ],
 "metadata": {
  "kernelspec": {
   "display_name": "Python 3 (ipykernel)",
   "language": "python",
   "name": "python3"
  },
  "language_info": {
   "codemirror_mode": {
    "name": "ipython",
    "version": 3
   },
   "file_extension": ".py",
   "mimetype": "text/x-python",
   "name": "python",
   "nbconvert_exporter": "python",
   "pygments_lexer": "ipython3",
   "version": "3.10.0"
  }
 },
 "nbformat": 4,
 "nbformat_minor": 5
}
