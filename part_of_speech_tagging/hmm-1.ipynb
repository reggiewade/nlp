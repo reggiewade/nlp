{
 "cells": [
  {
   "cell_type": "code",
   "execution_count": 1,
   "id": "e630fb1e",
   "metadata": {},
   "outputs": [],
   "source": [
    "import pandas as pd\n",
    "from tqdm import tqdm\n",
    "import time\n",
    "from collections import Counter as ctr"
   ]
  },
  {
   "cell_type": "code",
   "execution_count": 5,
   "id": "3b31a01e",
   "metadata": {},
   "outputs": [
    {
     "name": "stderr",
     "output_type": "stream",
     "text": [
      "100%|██████████| 100/100 [00:10<00:00,  9.47it/s]\n"
     ]
    }
   ],
   "source": [
    "for i in tqdm(range(100)):\n",
    "    time.sleep(0.1)"
   ]
  },
  {
   "cell_type": "code",
   "execution_count": 6,
   "id": "0ad076cb",
   "metadata": {},
   "outputs": [],
   "source": [
    "train = pd.read_csv('train.txt', delimiter=' ', names=['word', 'tag', 'tag2'])"
   ]
  },
  {
   "cell_type": "code",
   "execution_count": 7,
   "id": "00f1fc8b",
   "metadata": {},
   "outputs": [
    {
     "data": {
      "text/html": [
       "<div>\n",
       "<style scoped>\n",
       "    .dataframe tbody tr th:only-of-type {\n",
       "        vertical-align: middle;\n",
       "    }\n",
       "\n",
       "    .dataframe tbody tr th {\n",
       "        vertical-align: top;\n",
       "    }\n",
       "\n",
       "    .dataframe thead th {\n",
       "        text-align: right;\n",
       "    }\n",
       "</style>\n",
       "<table border=\"1\" class=\"dataframe\">\n",
       "  <thead>\n",
       "    <tr style=\"text-align: right;\">\n",
       "      <th></th>\n",
       "      <th>word</th>\n",
       "      <th>tag</th>\n",
       "      <th>tag2</th>\n",
       "    </tr>\n",
       "  </thead>\n",
       "  <tbody>\n",
       "    <tr>\n",
       "      <th>0</th>\n",
       "      <td>Confidence</td>\n",
       "      <td>NN</td>\n",
       "      <td>B-NP</td>\n",
       "    </tr>\n",
       "    <tr>\n",
       "      <th>1</th>\n",
       "      <td>in</td>\n",
       "      <td>IN</td>\n",
       "      <td>B-PP</td>\n",
       "    </tr>\n",
       "    <tr>\n",
       "      <th>2</th>\n",
       "      <td>the</td>\n",
       "      <td>DT</td>\n",
       "      <td>B-NP</td>\n",
       "    </tr>\n",
       "    <tr>\n",
       "      <th>3</th>\n",
       "      <td>pound</td>\n",
       "      <td>NN</td>\n",
       "      <td>I-NP</td>\n",
       "    </tr>\n",
       "    <tr>\n",
       "      <th>4</th>\n",
       "      <td>is</td>\n",
       "      <td>VBZ</td>\n",
       "      <td>B-VP</td>\n",
       "    </tr>\n",
       "    <tr>\n",
       "      <th>...</th>\n",
       "      <td>...</td>\n",
       "      <td>...</td>\n",
       "      <td>...</td>\n",
       "    </tr>\n",
       "    <tr>\n",
       "      <th>211722</th>\n",
       "      <td>to</td>\n",
       "      <td>TO</td>\n",
       "      <td>B-PP</td>\n",
       "    </tr>\n",
       "    <tr>\n",
       "      <th>211723</th>\n",
       "      <td>San</td>\n",
       "      <td>NNP</td>\n",
       "      <td>B-NP</td>\n",
       "    </tr>\n",
       "    <tr>\n",
       "      <th>211724</th>\n",
       "      <td>Francisco</td>\n",
       "      <td>NNP</td>\n",
       "      <td>I-NP</td>\n",
       "    </tr>\n",
       "    <tr>\n",
       "      <th>211725</th>\n",
       "      <td>instead</td>\n",
       "      <td>RB</td>\n",
       "      <td>B-ADVP</td>\n",
       "    </tr>\n",
       "    <tr>\n",
       "      <th>211726</th>\n",
       "      <td>.</td>\n",
       "      <td>.</td>\n",
       "      <td>O</td>\n",
       "    </tr>\n",
       "  </tbody>\n",
       "</table>\n",
       "<p>211727 rows × 3 columns</p>\n",
       "</div>"
      ],
      "text/plain": [
       "              word  tag    tag2\n",
       "0       Confidence   NN    B-NP\n",
       "1               in   IN    B-PP\n",
       "2              the   DT    B-NP\n",
       "3            pound   NN    I-NP\n",
       "4               is  VBZ    B-VP\n",
       "...            ...  ...     ...\n",
       "211722          to   TO    B-PP\n",
       "211723         San  NNP    B-NP\n",
       "211724   Francisco  NNP    I-NP\n",
       "211725     instead   RB  B-ADVP\n",
       "211726           .    .       O\n",
       "\n",
       "[211727 rows x 3 columns]"
      ]
     },
     "execution_count": 7,
     "metadata": {},
     "output_type": "execute_result"
    }
   ],
   "source": [
    "train"
   ]
  },
  {
   "cell_type": "code",
   "execution_count": 8,
   "id": "b32e6fc3",
   "metadata": {},
   "outputs": [
    {
     "data": {
      "text/plain": [
       "(44,\n",
       " ['VBP',\n",
       "  ')',\n",
       "  'IN',\n",
       "  'VBG',\n",
       "  'EX',\n",
       "  'NNPS',\n",
       "  ':',\n",
       "  'RB',\n",
       "  '$',\n",
       "  'WP',\n",
       "  'VBZ',\n",
       "  'RBR',\n",
       "  'JJR',\n",
       "  'NNS',\n",
       "  'VBD',\n",
       "  'DT',\n",
       "  ',',\n",
       "  '.',\n",
       "  'RBS',\n",
       "  '#',\n",
       "  'SYM',\n",
       "  'CD',\n",
       "  'MD',\n",
       "  \"''\",\n",
       "  '``',\n",
       "  'UH',\n",
       "  'NN',\n",
       "  'PRP',\n",
       "  'PDT',\n",
       "  'CC',\n",
       "  'FW',\n",
       "  'PRP$',\n",
       "  'POS',\n",
       "  'JJ',\n",
       "  'WDT',\n",
       "  'NNP',\n",
       "  'WRB',\n",
       "  'WP$',\n",
       "  'JJS',\n",
       "  'TO',\n",
       "  'VB',\n",
       "  'VBN',\n",
       "  'RP',\n",
       "  '('])"
      ]
     },
     "execution_count": 8,
     "metadata": {},
     "output_type": "execute_result"
    }
   ],
   "source": [
    "tags = list(set(train.tag))\n",
    "total = len(train)\n",
    "smoother = float(1e-5)\n",
    "\n",
    "len(tags), tags"
   ]
  },
  {
   "cell_type": "markdown",
   "id": "fd9cb0b1",
   "metadata": {},
   "source": [
    "### Estimate Transition Probabilities $P(T_i|T_{i-1})$"
   ]
  },
  {
   "cell_type": "code",
   "execution_count": null,
   "id": "bb0e0f86",
   "metadata": {},
   "outputs": [],
   "source": []
  },
  {
   "cell_type": "markdown",
   "id": "2c5757bb",
   "metadata": {},
   "source": [
    "### Estimate Emission Probabilities $P(T_i|W_{i-1})$"
   ]
  },
  {
   "cell_type": "code",
   "execution_count": 9,
   "id": "13e76ffe",
   "metadata": {},
   "outputs": [],
   "source": [
    "#P(W|T)\n",
    "word_tag_counts = {}\n",
    "word_tag_totals = {}\n",
    "for tag in tags:\n",
    "    sub_train = train[train.tag == tag]\n",
    "    word_tag_counts[tag] = ctr(sub_train.word)\n",
    "    word_tag_totals[tag] = sum(word_tag_counts[tag].values())\n",
    "\n",
    "def Pwt(W='', T=''):\n",
    "    if W not in word_tag_counts[T]:\n",
    "        return smoother\n",
    "    return word_tag_counts[T][W] / word_tag_totals[T]\n",
    "    \n",
    "    \n",
    "#P(T)\n",
    "tag_counts = ctr(train.tag)\n",
    "def Ptag(T=''):\n",
    "    return tag_counts[T] / total\n",
    "\n",
    "# P(W)\n",
    "word_counts = ctr(train.word)\n",
    "def Pword(W=''):\n",
    "    if W not in word_counts:\n",
    "        return smoother\n",
    "    return word_counts[W] / total\n",
    "\n",
    "def Ptw(T='', W=''):\n",
    "    return Pwt(W, T) * Ptag(T) / Pword(W)"
   ]
  },
  {
   "cell_type": "code",
   "execution_count": 10,
   "id": "08275fef",
   "metadata": {},
   "outputs": [
    {
     "data": {
      "text/plain": [
       "0.08659736358612742"
      ]
     },
     "execution_count": 10,
     "metadata": {},
     "output_type": "execute_result"
    }
   ],
   "source": [
    "Ptag(T='DT')"
   ]
  },
  {
   "cell_type": "code",
   "execution_count": 11,
   "id": "6fc3b494",
   "metadata": {},
   "outputs": [
    {
     "data": {
      "text/plain": [
       "1e-05"
      ]
     },
     "execution_count": 11,
     "metadata": {},
     "output_type": "execute_result"
    }
   ],
   "source": [
    "Pword(W='thebigllama')"
   ]
  },
  {
   "cell_type": "code",
   "execution_count": 12,
   "id": "cd8343b2",
   "metadata": {},
   "outputs": [
    {
     "data": {
      "text/plain": [
       "0.5018816471229888"
      ]
     },
     "execution_count": 12,
     "metadata": {},
     "output_type": "execute_result"
    }
   ],
   "source": [
    "Pwt(\"the\", \"DT\")"
   ]
  },
  {
   "cell_type": "code",
   "execution_count": 13,
   "id": "11f10398",
   "metadata": {},
   "outputs": [
    {
     "data": {
      "text/plain": [
       "0.9981559822106519"
      ]
     },
     "execution_count": 13,
     "metadata": {},
     "output_type": "execute_result"
    }
   ],
   "source": [
    "Ptw(\"DT\", \"the\")"
   ]
  },
  {
   "cell_type": "code",
   "execution_count": 14,
   "id": "e31baa41",
   "metadata": {},
   "outputs": [],
   "source": [
    "def Pall_tags(word):\n",
    "    return {t:Ptw(T=t, W=word) for t in tags}"
   ]
  },
  {
   "cell_type": "code",
   "execution_count": 15,
   "id": "d998eb7f",
   "metadata": {},
   "outputs": [],
   "source": [
    "ethe = Pall_tags('the')"
   ]
  },
  {
   "cell_type": "code",
   "execution_count": 16,
   "id": "82ec79c1",
   "metadata": {},
   "outputs": [
    {
     "data": {
      "text/plain": [
       "'DT'"
      ]
     },
     "execution_count": 16,
     "metadata": {},
     "output_type": "execute_result"
    }
   ],
   "source": [
    "max(ethe, key=ethe.get)"
   ]
  },
  {
   "cell_type": "markdown",
   "id": "a4f646c8",
   "metadata": {},
   "source": [
    "### Greedy Decoder"
   ]
  },
  {
   "cell_type": "code",
   "execution_count": 17,
   "id": "8d797bff",
   "metadata": {},
   "outputs": [],
   "source": [
    "example_sentence = ['the', 'dog', 'plays']"
   ]
  },
  {
   "cell_type": "code",
   "execution_count": 18,
   "id": "2b7f931f",
   "metadata": {},
   "outputs": [
    {
     "name": "stdout",
     "output_type": "stream",
     "text": [
      "the DT\n",
      "dog NN\n",
      "plays VBZ\n"
     ]
    }
   ],
   "source": [
    "for word in example_sentence:\n",
    "    emission = Pall_tags(word)\n",
    "    max_tag = max(emission, key=emission.get)\n",
    "    print(word, max_tag)\n",
    "    "
   ]
  },
  {
   "cell_type": "code",
   "execution_count": 19,
   "id": "76d66ee1",
   "metadata": {},
   "outputs": [
    {
     "name": "stderr",
     "output_type": "stream",
     "text": [
      "211727it [00:05, 36517.67it/s]\n"
     ]
    }
   ],
   "source": [
    "guesses = []\n",
    "for i,row in tqdm(train.iterrows()):\n",
    "    word=row['word']\n",
    "    tag = row['tag']\n",
    "    emission = Pall_tags(word)\n",
    "    max_tag = max(emission, key=emission.get)\n",
    "    guesses.append(max_tag)"
   ]
  },
  {
   "cell_type": "code",
   "execution_count": 20,
   "id": "8d7214bc",
   "metadata": {},
   "outputs": [],
   "source": [
    "train['guess'] = guesses"
   ]
  },
  {
   "cell_type": "code",
   "execution_count": 21,
   "id": "3f4e62b1",
   "metadata": {},
   "outputs": [
    {
     "data": {
      "text/plain": [
       "0.9649595941944107"
      ]
     },
     "execution_count": 21,
     "metadata": {},
     "output_type": "execute_result"
    }
   ],
   "source": [
    "sum(train.guess == train.tag) / total"
   ]
  },
  {
   "cell_type": "code",
   "execution_count": 22,
   "id": "5078f9cb",
   "metadata": {},
   "outputs": [],
   "source": [
    "train['ptag'] = train['tag'].shift(1)"
   ]
  },
  {
   "cell_type": "code",
   "execution_count": 23,
   "id": "6271d316",
   "metadata": {},
   "outputs": [
    {
     "data": {
      "text/html": [
       "<div>\n",
       "<style scoped>\n",
       "    .dataframe tbody tr th:only-of-type {\n",
       "        vertical-align: middle;\n",
       "    }\n",
       "\n",
       "    .dataframe tbody tr th {\n",
       "        vertical-align: top;\n",
       "    }\n",
       "\n",
       "    .dataframe thead th {\n",
       "        text-align: right;\n",
       "    }\n",
       "</style>\n",
       "<table border=\"1\" class=\"dataframe\">\n",
       "  <thead>\n",
       "    <tr style=\"text-align: right;\">\n",
       "      <th></th>\n",
       "      <th>word</th>\n",
       "      <th>tag</th>\n",
       "      <th>tag2</th>\n",
       "      <th>guess</th>\n",
       "      <th>ptag</th>\n",
       "    </tr>\n",
       "  </thead>\n",
       "  <tbody>\n",
       "    <tr>\n",
       "      <th>0</th>\n",
       "      <td>Confidence</td>\n",
       "      <td>NN</td>\n",
       "      <td>B-NP</td>\n",
       "      <td>NN</td>\n",
       "      <td>None</td>\n",
       "    </tr>\n",
       "    <tr>\n",
       "      <th>1</th>\n",
       "      <td>in</td>\n",
       "      <td>IN</td>\n",
       "      <td>B-PP</td>\n",
       "      <td>IN</td>\n",
       "      <td>NN</td>\n",
       "    </tr>\n",
       "    <tr>\n",
       "      <th>2</th>\n",
       "      <td>the</td>\n",
       "      <td>DT</td>\n",
       "      <td>B-NP</td>\n",
       "      <td>DT</td>\n",
       "      <td>IN</td>\n",
       "    </tr>\n",
       "    <tr>\n",
       "      <th>3</th>\n",
       "      <td>pound</td>\n",
       "      <td>NN</td>\n",
       "      <td>I-NP</td>\n",
       "      <td>NN</td>\n",
       "      <td>DT</td>\n",
       "    </tr>\n",
       "    <tr>\n",
       "      <th>4</th>\n",
       "      <td>is</td>\n",
       "      <td>VBZ</td>\n",
       "      <td>B-VP</td>\n",
       "      <td>VBZ</td>\n",
       "      <td>NN</td>\n",
       "    </tr>\n",
       "    <tr>\n",
       "      <th>...</th>\n",
       "      <td>...</td>\n",
       "      <td>...</td>\n",
       "      <td>...</td>\n",
       "      <td>...</td>\n",
       "      <td>...</td>\n",
       "    </tr>\n",
       "    <tr>\n",
       "      <th>211722</th>\n",
       "      <td>to</td>\n",
       "      <td>TO</td>\n",
       "      <td>B-PP</td>\n",
       "      <td>TO</td>\n",
       "      <td>PRP</td>\n",
       "    </tr>\n",
       "    <tr>\n",
       "      <th>211723</th>\n",
       "      <td>San</td>\n",
       "      <td>NNP</td>\n",
       "      <td>B-NP</td>\n",
       "      <td>NNP</td>\n",
       "      <td>TO</td>\n",
       "    </tr>\n",
       "    <tr>\n",
       "      <th>211724</th>\n",
       "      <td>Francisco</td>\n",
       "      <td>NNP</td>\n",
       "      <td>I-NP</td>\n",
       "      <td>NNP</td>\n",
       "      <td>NNP</td>\n",
       "    </tr>\n",
       "    <tr>\n",
       "      <th>211725</th>\n",
       "      <td>instead</td>\n",
       "      <td>RB</td>\n",
       "      <td>B-ADVP</td>\n",
       "      <td>RB</td>\n",
       "      <td>NNP</td>\n",
       "    </tr>\n",
       "    <tr>\n",
       "      <th>211726</th>\n",
       "      <td>.</td>\n",
       "      <td>.</td>\n",
       "      <td>O</td>\n",
       "      <td>.</td>\n",
       "      <td>RB</td>\n",
       "    </tr>\n",
       "  </tbody>\n",
       "</table>\n",
       "<p>211727 rows × 5 columns</p>\n",
       "</div>"
      ],
      "text/plain": [
       "              word  tag    tag2 guess  ptag\n",
       "0       Confidence   NN    B-NP    NN  None\n",
       "1               in   IN    B-PP    IN    NN\n",
       "2              the   DT    B-NP    DT    IN\n",
       "3            pound   NN    I-NP    NN    DT\n",
       "4               is  VBZ    B-VP   VBZ    NN\n",
       "...            ...  ...     ...   ...   ...\n",
       "211722          to   TO    B-PP    TO   PRP\n",
       "211723         San  NNP    B-NP   NNP    TO\n",
       "211724   Francisco  NNP    I-NP   NNP   NNP\n",
       "211725     instead   RB  B-ADVP    RB   NNP\n",
       "211726           .    .       O     .    RB\n",
       "\n",
       "[211727 rows x 5 columns]"
      ]
     },
     "execution_count": 23,
     "metadata": {},
     "output_type": "execute_result"
    }
   ],
   "source": [
    "train"
   ]
  },
  {
   "cell_type": "code",
   "execution_count": null,
   "id": "111024bb",
   "metadata": {},
   "outputs": [],
   "source": []
  },
  {
   "cell_type": "code",
   "execution_count": null,
   "id": "bb43a491-e051-4958-b49a-4a7aedff246f",
   "metadata": {},
   "outputs": [],
   "source": []
  }
 ],
 "metadata": {
  "kernelspec": {
   "display_name": "Python 3 (ipykernel)",
   "language": "python",
   "name": "python3"
  },
  "language_info": {
   "codemirror_mode": {
    "name": "ipython",
    "version": 3
   },
   "file_extension": ".py",
   "mimetype": "text/x-python",
   "name": "python",
   "nbconvert_exporter": "python",
   "pygments_lexer": "ipython3",
   "version": "3.12.8"
  }
 },
 "nbformat": 4,
 "nbformat_minor": 5
}
