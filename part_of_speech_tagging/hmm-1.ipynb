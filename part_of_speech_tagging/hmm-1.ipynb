{
 "cells": [
  {
   "cell_type": "code",
   "execution_count": 25,
   "id": "e630fb1e",
   "metadata": {},
   "outputs": [],
   "source": [
    "import pandas as pd\n",
    "from tqdm import tqdm\n",
    "import time\n",
    "from collections import Counter as ctr"
   ]
  },
  {
   "cell_type": "code",
   "execution_count": 26,
   "id": "e83b0dbc-5da4-4dc0-a2fa-dc78ad33b37e",
   "metadata": {},
   "outputs": [],
   "source": [
    "train = pd.read_csv(\"train.txt\", delimiter=\" \", names=['word', 'tag', 'drop']).drop('drop', axis=1)\n",
    "tags = train['tag'].unique()\n",
    "smoother = float(1e-5)\n",
    "total = len(train)"
   ]
  },
  {
   "cell_type": "markdown",
   "id": "82cced09-0cf1-4644-abcd-66e9b5d3fac0",
   "metadata": {},
   "source": [
    "### Emission Function $P(T_i|W_{i-1})$"
   ]
  },
  {
   "cell_type": "code",
   "execution_count": 27,
   "id": "47aad01d-2a55-477d-abe6-a36e2e2b76f8",
   "metadata": {},
   "outputs": [],
   "source": [
    "word_tag_counts = {}\n",
    "word_tag_totals = {}\n",
    "\n",
    "for tag in tags:\n",
    "    sub_train = train[train['tag']==tag]\n",
    "    word_tag_counts[tag] = ctr(sub_train['word'])\n",
    "    word_tag_totals[tag] = sum(word_tag_counts[tag].values())\n",
    "\n",
    "#P(W|T)\n",
    "def Pwt(W='', T=''):\n",
    "    if W not in word_tag_counts[T]:\n",
    "        return smoother\n",
    "    return word_tag_counts[T][W] / word_tag_totals[T]\n",
    "#P(T)\n",
    "tag_counts = ctr(train['tag'])\n",
    "def Ptag(T=''):\n",
    "    return tag_counts[T] / total\n",
    "#P(W)\n",
    "word_counts = ctr(train['word'])\n",
    "def Pword(W=''):\n",
    "    if W not in word_counts:\n",
    "        return smoother\n",
    "    return word_counts[W] / total\n",
    "#P(T|W)\n",
    "def Ptw(T='', W=''):\n",
    "    return (Pwt(W=W, T=T) * Ptag(T)) / Pword(W)"
   ]
  },
  {
   "cell_type": "markdown",
   "id": "2824ff72-80bf-49f0-b88f-8df32ca474b5",
   "metadata": {},
   "source": [
    "### Transition Function $P(T_i|T_{i-1})$"
   ]
  },
  {
   "cell_type": "code",
   "execution_count": 28,
   "id": "1c9b0994-8536-40da-8322-992957d1bb50",
   "metadata": {},
   "outputs": [],
   "source": [
    "train['prev_tag'] = train['tag'].shift(1)\n",
    "train = train.dropna()"
   ]
  },
  {
   "cell_type": "code",
   "execution_count": 29,
   "id": "222c790c-e1d8-4980-95ba-954e1a107737",
   "metadata": {},
   "outputs": [],
   "source": [
    "tag_bigram_counts = {}\n",
    "\n",
    "for tag in tags:\n",
    "    sub_train = train[train['tag']==tag]\n",
    "    tag_bigram_counts[tag] = ctr(sub_train['prev_tag'])"
   ]
  },
  {
   "cell_type": "code",
   "execution_count": 30,
   "id": "d10ff791-901f-4a4d-a8c6-c53173df2e07",
   "metadata": {},
   "outputs": [],
   "source": [
    "# P(T_i|T{i-1})\n",
    "def PtagPrev(tag='', prev_tag=''):\n",
    "    return tag_bigram_counts[tag][prev_tag] / word_tag_totals[prev_tag]"
   ]
  },
  {
   "cell_type": "markdown",
   "id": "5c31515d-d27c-421f-8d5d-4f45fabbe18e",
   "metadata": {},
   "source": [
    "### Greedy Decoder"
   ]
  },
  {
   "cell_type": "code",
   "execution_count": 53,
   "id": "c53c1318-22d5-4fa8-abf9-49410e5d1325",
   "metadata": {},
   "outputs": [],
   "source": [
    "def greedy_decoder(df):\n",
    "    guesses = []\n",
    "    prev_tag = None\n",
    "    for _, row in tqdm(df.iterrows()):\n",
    "        transition_emission = {}\n",
    "        w = row['word']\n",
    "        # if we have a previous tag\n",
    "        if prev_tag != None:\n",
    "            transition_emission = {t:Ptw(T=t, W=w) * PtagPrev(tag=t, prev_tag=prev_tag) for t in tags}\n",
    "        else:\n",
    "            transition_emission = {t:Ptw(T=t, W=w) for t in tags}\n",
    "        max_tag = max(transition_emission, key=transition_emission.get)\n",
    "        guesses.append(max_tag)\n",
    "        prev_tag = max_tag\n",
    "    return guesses"
   ]
  },
  {
   "cell_type": "code",
   "execution_count": 54,
   "id": "4d2a6a02-7627-41ce-b592-033fdff48e8c",
   "metadata": {},
   "outputs": [
    {
     "name": "stderr",
     "output_type": "stream",
     "text": [
      "211727it [00:20, 10404.25it/s]\n"
     ]
    }
   ],
   "source": [
    "guesses = greedy_decoder(train)"
   ]
  },
  {
   "cell_type": "code",
   "execution_count": 55,
   "id": "e7a8163e-58b2-4a83-ad69-c4e41a022e83",
   "metadata": {},
   "outputs": [
    {
     "name": "stdout",
     "output_type": "stream",
     "text": [
      "0.9526418453952495\n"
     ]
    }
   ],
   "source": [
    "train['guesses'] = guesses\n",
    "print(sum(train['tag'] == train['guesses']) / len(train))"
   ]
  },
  {
   "cell_type": "markdown",
   "id": "6a5ade6a-a1f2-4f19-8dd7-85913bbfcc5f",
   "metadata": {},
   "source": [
    "### Load Test Data"
   ]
  },
  {
   "cell_type": "code",
   "execution_count": 56,
   "id": "faf838c4-c731-42b9-bc4d-2c35e9a7db45",
   "metadata": {},
   "outputs": [],
   "source": [
    "test = pd.read_csv(\"test.txt\", delimiter=\" \", names=['word', 'tag', 'drop']).drop('drop', axis=1)"
   ]
  },
  {
   "cell_type": "code",
   "execution_count": 57,
   "id": "f34181d2-f4bd-4011-ba53-781c2b356f42",
   "metadata": {},
   "outputs": [
    {
     "name": "stderr",
     "output_type": "stream",
     "text": [
      "47377it [00:04, 10432.54it/s]\n"
     ]
    }
   ],
   "source": [
    "test_guesses = greedy_decoder(test)"
   ]
  },
  {
   "cell_type": "code",
   "execution_count": 58,
   "id": "a15ba9c8-97ba-443c-9d6a-f9b43a472d4b",
   "metadata": {},
   "outputs": [
    {
     "name": "stdout",
     "output_type": "stream",
     "text": [
      "0.9039829453110159\n"
     ]
    }
   ],
   "source": [
    "test['guesses'] = test_guesses\n",
    "print(sum(test['tag'] == test['guesses']) / len(test))"
   ]
  },
  {
   "cell_type": "code",
   "execution_count": null,
   "id": "a6d58c3e-8051-4939-9f6c-fb6fdd829de1",
   "metadata": {},
   "outputs": [],
   "source": []
  }
 ],
 "metadata": {
  "kernelspec": {
   "display_name": "Python 3 (ipykernel)",
   "language": "python",
   "name": "python3"
  },
  "language_info": {
   "codemirror_mode": {
    "name": "ipython",
    "version": 3
   },
   "file_extension": ".py",
   "mimetype": "text/x-python",
   "name": "python",
   "nbconvert_exporter": "python",
   "pygments_lexer": "ipython3",
   "version": "3.12.8"
  }
 },
 "nbformat": 4,
 "nbformat_minor": 5
}
